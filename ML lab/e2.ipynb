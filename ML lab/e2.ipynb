{
 "cells": [
  {
   "cell_type": "code",
   "execution_count": 1,
   "metadata": {},
   "outputs": [
    {
     "name": "stdout",
     "output_type": "stream",
     "text": [
      "Reject null hypothesis: Significant difference between groups.\n"
     ]
    }
   ],
   "source": [
    "import numpy as np\n",
    "import scipy.stats as stats\n",
    "\n",
    "# Generate two sample datasets\n",
    "control_group = np.random.normal(10, 2, 50)\n",
    "treatment_group = np.random.normal(12, 2, 50)\n",
    "\n",
    "# Perform an independent t-test\n",
    "t_statistic, p_value = stats.ttest_ind(control_group, treatment_group)\n",
    "if p_value < 0.05:\n",
    "    print(\"Reject null hypothesis: Significant difference between groups.\")\n",
    "else:\n",
    "    print(\"Fail to reject null hypothesis: No significant difference detected.\")\n"
   ]
  },
  {
   "cell_type": "code",
   "execution_count": 4,
   "metadata": {},
   "outputs": [
    {
     "data": {
      "image/png": "[encoded data removed]",
      "text/plain": [
       "<Figure size 640x480 with 1 Axes>"
      ]
     },
     "metadata": {},
     "output_type": "display_data"
    }
   ],
   "source": [
    "import numpy as np\n",
    "import scipy.stats as stats\n",
    "import matplotlib.pyplot as plt\n",
    "\n",
    "# Generate random samples from a normal distribution\n",
    "data = np.random.normal(0, 1, 1000)\n",
    "\n",
    "# Plot the histogram\n",
    "plt.hist(data, bins=30, density=True, alpha=0.6)\n",
    "plt.xlabel(\"Value\")\n",
    "plt.ylabel(\"Density\")\n",
    "plt.title(\"Normal Distribution\")\n",
    "plt.show()\n"
   ]
  },
  {
   "cell_type": "code",
   "execution_count": 2,
   "metadata": {},
   "outputs": [
    {
     "name": "stdout",
     "output_type": "stream",
     "text": [
      "Data Set 1: [1 2 3 4 5]\n",
      "Data Set 2: [ 2  4  6  8 10]\n",
      "Sum of Data Set 1: 15\n",
      "Product of Data Set 2: 3840\n",
      "Square Root of Data Set 1: [1.         1.41421356 1.73205081 2.         2.23606798]\n",
      "Correlation Coefficient: 1.00\n",
      "P-value: 0.0000\n"
     ]
    }
   ],
   "source": [
    "import numpy as np\n",
    "from scipy.stats import pearsonr\n",
    "\n",
    "# Generating two sets of data\n",
    "data_set1 = np.array([1, 2, 3, 4, 5])\n",
    "data_set2 = np.array([2, 4, 6, 8, 10])\n",
    "# Mathematical operations using numpy\n",
    "sum_result = np.sum(data_set1)\n",
    "product_result = np.prod(data_set2)\n",
    "sqrt_result = np.sqrt(data_set1)\n",
    "\n",
    "print(f\"Data Set 1: {data_set1}\")\n",
    "print(f\"Data Set 2: {data_set2}\")\n",
    "print(f\"Sum of Data Set 1: {sum_result}\")\n",
    "print(f\"Product of Data Set 2: {product_result}\")\n",
    "print(f\"Square Root of Data Set 1: {sqrt_result}\")\n",
    "\n",
    "# Correlation calculation using scipy\n",
    "correlation_coefficient, p_value = pearsonr(data_set1, data_set2)\n",
    "\n",
    "print(f\"Correlation Coefficient: {correlation_coefficient:.2f}\")\n",
    "print(f\"P-value: {p_value:.4f}\")\n"
   ]
  },
  {
   "cell_type": "code",
   "execution_count": 3,
   "metadata": {},
   "outputs": [
    {
     "name": "stdout",
     "output_type": "stream",
     "text": [
      "Minimum: -1.8765941923660552\n",
      "Maximum: 2.0818347445309837\n",
      "Sum: 21.884093387696744\n",
      "Product: 1.993343040608682e-25\n",
      "Skewness: -0.08442316072845847\n",
      "Kurtosis: -0.8366681517619994\n"
     ]
    }
   ],
   "source": [
    "import statistics\n",
    "import math\n",
    "import numpy as np\n",
    "from scipy import stats\n",
    "\n",
    "# Create a sample dataset\n",
    "data = np.random.randn(100)\n",
    "\n",
    "# Use numpy library to calculate minimum, maximum, sum, product\n",
    "minimum = np.min(data)\n",
    "maximum = np.max(data)\n",
    "sum = np.sum(data)\n",
    "product = np.prod(data)\n",
    "\n",
    "# Use scipy library to calculate skewness, kurtosis\n",
    "skewness = stats.skew(data)\n",
    "kurtosis = stats.kurtosis(data)\n",
    "\n",
    "# Print the results\n",
    "print(\"Minimum:\", minimum)\n",
    "print(\"Maximum:\", maximum)\n",
    "print(\"Sum:\", sum)\n",
    "print(\"Product:\", product)\n",
    "print(\"Skewness:\", skewness)\n",
    "print(\"Kurtosis:\", kurtosis)\n"
   ]
  }
 ],
 "metadata": {
  "kernelspec": {
   "display_name": "Python 3",
   "language": "python",
   "name": "python3"
  },
  "language_info": {
   "codemirror_mode": {
    "name": "ipython",
    "version": 3
   },
   "file_extension": ".py",
   "mimetype": "text/x-python",
   "name": "python",
   "nbconvert_exporter": "python",
   "pygments_lexer": "ipython3",
   "version": "3.10.13"
  }
 },
 "nbformat": 4,
 "nbformat_minor": 2
}

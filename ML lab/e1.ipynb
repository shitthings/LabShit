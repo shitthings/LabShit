{
 "cells": [
  {
   "cell_type": "code",
   "execution_count": 1,
   "metadata": {},
   "outputs": [
    {
     "name": "stdout",
     "output_type": "stream",
     "text": [
      "The mean of the data is 30.0\n",
      "The median of the data is 30.0\n",
      "The mode of the data is 10\n",
      "The variance of the data is 166.66666666666666\n",
      "The standard deviation of the data is 12.909944487358056\n"
     ]
    }
   ],
   "source": [
    "# Import numpy and pandas libraries\n",
    "import numpy as np\n",
    "import pandas as pd   \n",
    "data = np.array([10, 15, 20, 25, 30, 35, 40, 45, 50])\n",
    "mean = np.mean(data)\n",
    "median = np.median(data)\n",
    "mode = np.bincount(data).argmax()\n",
    "variance = np.var(data)\n",
    "std_dev = np.std(data)\n",
    "print(\"The mean of the data is\", mean)\n",
    "print(\"The median of the data is\", median)\n",
    "print(\"The mode of the data is\", mode)\n",
    "print(\"The variance of the data is\", variance)\n",
    "print(\"The standard deviation of the data is\", std_dev)"
   ]
  },
  {
   "cell_type": "code",
   "execution_count": 2,
   "metadata": {},
   "outputs": [
    {
     "name": "stdout",
     "output_type": "stream",
     "text": [
      "The mean of the data is 30.0\n",
      "The median of the data is 30.0\n",
      "The mode of the data is 0    10\n",
      "1    15\n",
      "2    20\n",
      "3    25\n",
      "4    30\n",
      "5    35\n",
      "6    40\n",
      "7    45\n",
      "8    50\n",
      "Name: data, dtype: int64\n",
      "The variance of the data is 187.5\n",
      "The standard deviation of the data is 13.693063937629153\n"
     ]
    }
   ],
   "source": [
    "import pandas as pd\n",
    "df = pd.DataFrame({\"data\": [10, 15, 20, 25, 30, 35, 40, 45, 50]})\n",
    "mean = df[\"data\"].mean()\n",
    "median = df[\"data\"].median()\n",
    "mode = df[\"data\"].mode()\n",
    "variance = df[\"data\"].var()\n",
    "std_dev = df[\"data\"].std()\n",
    "print(\"The mean of the data is\", mean)\n",
    "print(\"The median of the data is\", median)\n",
    "print(\"The mode of the data is\", mode)\n",
    "print(\"The variance of the data is\", variance)\n",
    "print(\"The standard deviation of the data is\", std_dev)"
   ]
  }
 ],
 "metadata": {
  "kernelspec": {
   "display_name": "Python 3",
   "language": "python",
   "name": "python3"
  },
  "language_info": {
   "codemirror_mode": {
    "name": "ipython",
    "version": 3
   },
   "file_extension": ".py",
   "mimetype": "text/x-python",
   "name": "python",
   "nbconvert_exporter": "python",
   "pygments_lexer": "ipython3",
   "version": "3.10.13"
  }
 },
 "nbformat": 4,
 "nbformat_minor": 2
}
